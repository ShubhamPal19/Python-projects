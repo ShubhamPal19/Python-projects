{
 "cells": [
  {
   "cell_type": "code",
   "execution_count": 3,
   "source": [
    "print(3)\r\n",
    "\r\n",
    "\r\n",
    "\r\n",
    "        "
   ],
   "outputs": [
    {
     "output_type": "stream",
     "name": "stdout",
     "text": [
      "3\n"
     ]
    }
   ],
   "metadata": {}
  },
  {
   "cell_type": "code",
   "execution_count": 9,
   "source": [
    "\r\n",
    "users={\r\n",
    "\r\n",
    "    \"Ram\": \"Password\",\r\n",
    "    \"Shyam\": \"hello\"\r\n",
    "}\r\n",
    "\r\n",
    "def login_check(func):\r\n",
    "    def wrapper(username,password,*args,**kwargs):\r\n",
    "        if username in users and users[username]==password:\r\n",
    "            return func(*args,**kwargs)\r\n",
    "        else:\r\n",
    "            print(\"You are not authenticated to enter in this section\")\r\n",
    "            return None\r\n",
    "    \r\n",
    "    return wrapper\r\n",
    "    \r\n",
    "\r\n",
    "\r\n",
    "def add(*args):\r\n",
    "    sum=0\r\n",
    "    for i in args:\r\n",
    "        sum+=i\r\n",
    "\r\n",
    "    return sum\r\n",
    "\r\n",
    "\r\n",
    "protected_addition=login_check(add)\r\n",
    "\r\n",
    "sum= protected_addition(\"Ram\",\"Password\",3,23,42,423,43252,3123,123)\r\n",
    "print(sum)\r\n",
    "#\r\n"
   ],
   "outputs": [
    {
     "output_type": "stream",
     "name": "stdout",
     "text": [
      "46989\n"
     ]
    }
   ],
   "metadata": {}
  },
  {
   "cell_type": "code",
   "execution_count": null,
   "source": [
    "\r\n",
    "sum = protected_addition(\"Ram\",\"Password323\",3,23,42,423,43252,3123,123)\r\n"
   ],
   "outputs": [],
   "metadata": {}
  }
 ],
 "metadata": {
  "orig_nbformat": 4,
  "language_info": {
   "name": "python",
   "version": "3.8.2",
   "mimetype": "text/x-python",
   "codemirror_mode": {
    "name": "ipython",
    "version": 3
   },
   "pygments_lexer": "ipython3",
   "nbconvert_exporter": "python",
   "file_extension": ".py"
  },
  "kernelspec": {
   "name": "python3",
   "display_name": "Python 3.8.2 32-bit"
  },
  "interpreter": {
   "hash": "c14390103c77792110dd7d07f19c0e77187d1f7858535b40ae83fad2bbb7fad4"
  }
 },
 "nbformat": 4,
 "nbformat_minor": 2
}