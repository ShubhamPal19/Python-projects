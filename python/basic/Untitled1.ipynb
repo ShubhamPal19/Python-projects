{
 "cells": [
  {
   "cell_type": "code",
   "execution_count": 5,
   "source": [
    "c=10\r\n",
    "print(c)"
   ],
   "outputs": [
    {
     "output_type": "stream",
     "name": "stdout",
     "text": [
      "10\n"
     ]
    }
   ],
   "metadata": {}
  },
  {
   "cell_type": "code",
   "execution_count": 6,
   "source": [
    "import numpy as np\r\n",
    "\r\n",
    "a=np.array([2,3,41,3])\r\n",
    "a"
   ],
   "outputs": [
    {
     "output_type": "execute_result",
     "data": {
      "text/plain": [
       "array([ 2,  3, 41,  3])"
      ]
     },
     "metadata": {},
     "execution_count": 6
    }
   ],
   "metadata": {}
  },
  {
   "cell_type": "markdown",
   "source": [],
   "metadata": {}
  },
  {
   "cell_type": "code",
   "execution_count": 24,
   "source": [
    "print(a[2])\r\n",
    "\r\n",
    "type(a)\r\n",
    "a[1]\r\n"
   ],
   "outputs": [
    {
     "output_type": "stream",
     "name": "stdout",
     "text": [
      "41\n"
     ]
    },
    {
     "output_type": "execute_result",
     "data": {
      "text/plain": [
       "3"
      ]
     },
     "metadata": {},
     "execution_count": 24
    }
   ],
   "metadata": {}
  },
  {
   "cell_type": "code",
   "execution_count": 34,
   "source": [
    "b=np.array([[2,3,4],\r\n",
    "          [12,3,1],\r\n",
    "            [12,3,1],\r\n",
    "          [2,1,1]])\r\n",
    "\r\n",
    "b.shape\r\n",
    "print(b.T)"
   ],
   "outputs": [
    {
     "output_type": "stream",
     "name": "stdout",
     "text": [
      "[[ 2 12 12  2]\n",
      " [ 3  3  3  1]\n",
      " [ 4  1  1  1]]\n"
     ]
    }
   ],
   "metadata": {}
  },
  {
   "cell_type": "code",
   "execution_count": 37,
   "source": [
    "i=np.argmin(b.T)\r\n",
    "i"
   ],
   "outputs": [
    {
     "output_type": "execute_result",
     "data": {
      "text/plain": [
       "7"
      ]
     },
     "metadata": {},
     "execution_count": 37
    }
   ],
   "metadata": {}
  },
  {
   "cell_type": "code",
   "execution_count": 47,
   "source": [
    "# element with max frequency\r\n",
    "\r\n",
    "a=np.array([1,2,2,33,1,21,21,31,2,2,3,41,21,21,212,212,2,21,12,22,3,2,32,33,32,332])\r\n",
    "\r\n",
    "b=np.unique(a,return_counts=True)\r\n",
    "\r\n",
    "index=np.argmax(b[1])\r\n",
    "print(\"The maximum frequency element is \", index)\r\n",
    "\r\n",
    "index=np.argmin(b[1])\r\n",
    "print(\"The minimum frequency element is \", index)\r\n",
    "\r\n",
    "\r\n",
    "\r\n",
    "\r\n"
   ],
   "outputs": [
    {
     "output_type": "stream",
     "name": "stdout",
     "text": [
      "The maximum frequency element is  1\n",
      "The minimum frequency element is  3\n"
     ]
    }
   ],
   "metadata": {}
  },
  {
   "cell_type": "code",
   "execution_count": null,
   "source": [
    "# slicing matrx\r\n",
    "\r\n",
    "matrix=np.array([[2,3,4],\r\n",
    "          [12,3,1],\r\n",
    "            [12,3,1],\r\n",
    "          [2,1,1]])\r\n",
    "\r\n",
    "\r\n",
    "submat=matrix[0:2,1:4]\r\n",
    "print(submat,submat.shape)\r\n",
    "\r\n"
   ],
   "outputs": [
    {
     "output_type": "stream",
     "name": "stdout",
     "text": [
      "[[3 4]\n",
      " [3 1]] (2, 2)\n"
     ]
    }
   ],
   "metadata": {}
  },
  {
   "cell_type": "code",
   "execution_count": null,
   "source": [
    "shubham=\"fine\"\r\n",
    "\r\n",
    "print(shubham)"
   ],
   "outputs": [],
   "metadata": {}
  }
 ],
 "metadata": {
  "kernelspec": {
   "name": "python3",
   "display_name": "Python 3.8.2 32-bit"
  },
  "language_info": {
   "codemirror_mode": {
    "name": "ipython",
    "version": 3
   },
   "file_extension": ".py",
   "mimetype": "text/x-python",
   "name": "python",
   "nbconvert_exporter": "python",
   "pygments_lexer": "ipython3",
   "version": "3.8.2"
  },
  "interpreter": {
   "hash": "c14390103c77792110dd7d07f19c0e77187d1f7858535b40ae83fad2bbb7fad4"
  }
 },
 "nbformat": 4,
 "nbformat_minor": 5
}