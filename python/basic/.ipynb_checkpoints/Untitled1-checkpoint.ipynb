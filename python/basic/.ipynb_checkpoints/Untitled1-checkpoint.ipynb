{
 "cells": [
  {
   "cell_type": "code",
   "execution_count": 5,
   "id": "923b358a",
   "metadata": {},
   "outputs": [
    {
     "name": "stdout",
     "output_type": "stream",
     "text": [
      "10\n"
     ]
    }
   ],
   "source": [
    "c=10\n",
    "print(c)"
   ]
  },
  {
   "cell_type": "code",
   "execution_count": 6,
   "id": "33450f0f",
   "metadata": {},
   "outputs": [
    {
     "data": {
      "text/plain": [
       "array([ 2,  3, 41,  3])"
      ]
     },
     "execution_count": 6,
     "metadata": {},
     "output_type": "execute_result"
    }
   ],
   "source": [
    "import numpy as np\n",
    "\n",
    "a=np.array([2,3,41,3])\n",
    "a"
   ]
  },
  {
   "cell_type": "markdown",
   "id": "14023f1d",
   "metadata": {},
   "source": []
  },
  {
   "cell_type": "code",
   "execution_count": 24,
   "id": "1cecd58b",
   "metadata": {},
   "outputs": [
    {
     "name": "stdout",
     "output_type": "stream",
     "text": [
      "41\n"
     ]
    },
    {
     "data": {
      "text/plain": [
       "3"
      ]
     },
     "execution_count": 24,
     "metadata": {},
     "output_type": "execute_result"
    }
   ],
   "source": [
    "print(a[2])\n",
    "\n",
    "type(a)\n",
    "a[1]\n"
   ]
  },
  {
   "cell_type": "code",
   "execution_count": 34,
   "id": "f4a54a01",
   "metadata": {},
   "outputs": [
    {
     "name": "stdout",
     "output_type": "stream",
     "text": [
      "[[ 2 12 12  2]\n",
      " [ 3  3  3  1]\n",
      " [ 4  1  1  1]]\n"
     ]
    }
   ],
   "source": [
    "b=np.array([[2,3,4],\n",
    "          [12,3,1],\n",
    "            [12,3,1],\n",
    "          [2,1,1]])\n",
    "\n",
    "b.shape\n",
    "print(b.T)"
   ]
  },
  {
   "cell_type": "code",
   "execution_count": 37,
   "id": "6be72a28",
   "metadata": {},
   "outputs": [
    {
     "data": {
      "text/plain": [
       "7"
      ]
     },
     "execution_count": 37,
     "metadata": {},
     "output_type": "execute_result"
    }
   ],
   "source": [
    "i=np.argmin(b.T)\n",
    "i"
   ]
  },
  {
   "cell_type": "code",
   "execution_count": 47,
   "id": "1fc431eb",
   "metadata": {},
   "outputs": [
    {
     "name": "stdout",
     "output_type": "stream",
     "text": [
      "The maximum frequency element is  1\n",
      "The minimum frequency element is  3\n"
     ]
    }
   ],
   "source": [
    "# element with max frequency\n",
    "\n",
    "a=np.array([1,2,2,33,1,21,21,31,2,2,3,41,21,21,212,212,2,21,12,22,3,2,32,33,32,332])\n",
    "\n",
    "b=np.unique(a,return_counts=True)\n",
    "\n",
    "index=np.argmax(b[1])\n",
    "print(\"The maximum frequency element is \", index)\n",
    "\n",
    "index=np.argmin(b[1])\n",
    "print(\"The minimum frequency element is \", index)\n"
   ]
  },
  {
   "cell_type": "code",
   "execution_count": 49,
   "id": "a0605533",
   "metadata": {},
   "outputs": [
    {
     "name": "stdout",
     "output_type": "stream",
     "text": [
      "[[3 4]\n",
      " [3 1]] (2, 2)\n"
     ]
    }
   ],
   "source": [
    "# slicing matrx\n",
    "\n",
    "matrix=np.array([[2,3,4],\n",
    "          [12,3,1],\n",
    "            [12,3,1],\n",
    "          [2,1,1]])\n",
    "\n",
    "\n",
    "submat=matrix[0:2,1:4]\n",
    "print(submat,submat.shape)\n",
    "\n"
   ]
  }
 ],
 "metadata": {
  "kernelspec": {
   "display_name": "Python 3 (ipykernel)",
   "language": "python",
   "name": "python3"
  },
  "language_info": {
   "codemirror_mode": {
    "name": "ipython",
    "version": 3
   },
   "file_extension": ".py",
   "mimetype": "text/x-python",
   "name": "python",
   "nbconvert_exporter": "python",
   "pygments_lexer": "ipython3",
   "version": "3.8.2"
  }
 },
 "nbformat": 4,
 "nbformat_minor": 5
}
