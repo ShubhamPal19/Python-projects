{
 "cells": [
  {
   "cell_type": "code",
   "execution_count": 3,
   "source": [
    "x=10\r\n",
    "\r\n",
    "def fun():\r\n",
    "    x=5\r\n",
    "    print(x)\r\n",
    "\r\n",
    "\r\n",
    "fun()\r\n",
    "print(x)\r\n"
   ],
   "outputs": [
    {
     "output_type": "stream",
     "name": "stdout",
     "text": [
      "5\n",
      "10\n"
     ]
    }
   ],
   "metadata": {}
  },
  {
   "cell_type": "code",
   "execution_count": 5,
   "source": [
    "\r\n",
    "def gun():\r\n",
    "    global x\r\n",
    "    x+=5\r\n",
    "    print(x)\r\n",
    "\r\n",
    "gun()\r\n",
    "print(x)"
   ],
   "outputs": [
    {
     "output_type": "stream",
     "name": "stdout",
     "text": [
      "15\n",
      "15\n"
     ]
    }
   ],
   "metadata": {}
  },
  {
   "cell_type": "code",
   "execution_count": 7,
   "source": [
    "\r\n",
    "\r\n",
    "#enclosures\r\n",
    "\r\n",
    "def run():\r\n",
    "    x=\"local\"\r\n",
    "    def bun():\r\n",
    "        \r\n",
    "\r\n",
    "        print(x)\r\n",
    "    \r\n",
    "\r\n",
    "    bun()\r\n",
    "    print(x)\r\n",
    "\r\n",
    "\r\n",
    "run()"
   ],
   "outputs": [
    {
     "output_type": "stream",
     "name": "stdout",
     "text": [
      "local\n",
      "local\n"
     ]
    }
   ],
   "metadata": {}
  },
  {
   "cell_type": "code",
   "execution_count": 8,
   "source": [
    "\r\n",
    "\r\n",
    "#enclosures\r\n",
    "\r\n",
    "def run():\r\n",
    "    x=32      #this variable cantt be accessed using a global keyword so\r\n",
    "    def bun():\r\n",
    "        nonlocal x  #so we use nonlocal keyword for nested functions\r\n",
    "\r\n",
    "        x+=2\r\n",
    "        print(x)\r\n",
    "    \r\n",
    "\r\n",
    "    bun()\r\n",
    "    print(x)\r\n",
    "\r\n",
    "\r\n",
    "run()"
   ],
   "outputs": [
    {
     "output_type": "stream",
     "name": "stdout",
     "text": [
      "34\n",
      "34\n"
     ]
    }
   ],
   "metadata": {}
  },
  {
   "cell_type": "code",
   "execution_count": null,
   "source": [],
   "outputs": [],
   "metadata": {}
  }
 ],
 "metadata": {
  "orig_nbformat": 4,
  "language_info": {
   "name": "python",
   "version": "3.8.2",
   "mimetype": "text/x-python",
   "codemirror_mode": {
    "name": "ipython",
    "version": 3
   },
   "pygments_lexer": "ipython3",
   "nbconvert_exporter": "python",
   "file_extension": ".py"
  },
  "kernelspec": {
   "name": "python3",
   "display_name": "Python 3.8.2 32-bit"
  },
  "interpreter": {
   "hash": "c14390103c77792110dd7d07f19c0e77187d1f7858535b40ae83fad2bbb7fad4"
  }
 },
 "nbformat": 4,
 "nbformat_minor": 2
}