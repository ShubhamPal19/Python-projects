{
 "cells": [
  {
   "cell_type": "code",
   "execution_count": null,
   "id": "e616520f",
   "metadata": {},
   "outputs": [],
   "source": [
    "import cv2\n",
    "import numpy as np\n",
    "import matplotlib.pyplot as plt\n",
    "\n",
    "\n",
    "\n",
    "\n",
    "\n",
    "\n",
    "c   = (cv2.cvtColor(cv2.imread(\"center.jpeg\"),cv2.COLOR_BGR2RGB))\n",
    "plt.imshow(c)\n",
    "tl  = cv2.cvtColor(cv2.imread(\"top_left.jpg\"),cv2.COLOR_BGR2RGB)\n",
    "tr  = cv2.cvtColor(cv2.imread(\"top_right.jpg\"),cv2.COLOR_BGR2RGB)\n",
    "br  = cv2.cvtColor(cv2.imread(\"bottom_right.jpg\"),cv2.COLOR_BGR2RGB)\n",
    "bl  = cv2.cvtColor(cv2.imread(\"bottom_left.jpg\"),cv2.COLOR_BGR2RGB)\n",
    "print(c.shape)\n",
    "# c= cv2.resize(c,(0,0),None,0.8,0.8)\n",
    "# print(c.shape)\n",
    "# plt.imshow(c)\n",
    "\n",
    "\n",
    "# c\n",
    "# print(tl.shape)\n",
    "# plt.imshow(tl)\n",
    "\n",
    "# imgBlank= np.zeros([600,600,3],dtype=np.uint8)\n",
    "\n",
    "\n",
    "\n",
    "\n",
    "\n",
    "\n"
   ]
  },
  {
   "cell_type": "code",
   "execution_count": null,
   "id": "6d04d5b6",
   "metadata": {},
   "outputs": [],
   "source": [
    "print(34)"
   ]
  },
  {
   "cell_type": "code",
   "execution_count": null,
   "id": "9729fdb4",
   "metadata": {},
   "outputs": [],
   "source": []
  },
  {
   "cell_type": "code",
   "execution_count": null,
   "id": "d142d1ce",
   "metadata": {},
   "outputs": [],
   "source": []
  }
 ],
 "metadata": {
  "interpreter": {
   "hash": "c14390103c77792110dd7d07f19c0e77187d1f7858535b40ae83fad2bbb7fad4"
  },
  "kernelspec": {
   "display_name": "Python 3 (ipykernel)",
   "language": "python",
   "name": "python3"
  },
  "language_info": {
   "codemirror_mode": {
    "name": "ipython",
    "version": 3
   },
   "file_extension": ".py",
   "mimetype": "text/x-python",
   "name": "python",
   "nbconvert_exporter": "python",
   "pygments_lexer": "ipython3",
   "version": "3.8.2"
  }
 },
 "nbformat": 4,
 "nbformat_minor": 5
}
