{
 "cells": [
  {
   "cell_type": "code",
   "execution_count": 1,
   "source": [
    "\r\n",
    "def sum(a,b,c,d,e=20,f=32):\r\n",
    "    sum = a+b+c+d+e+f\r\n",
    "    return sum\r\n",
    "\r\n",
    "\r\n",
    "s = sum(2,3,24,5)\r\n",
    "\r\n",
    "print(s)"
   ],
   "outputs": [
    {
     "output_type": "stream",
     "name": "stdout",
     "text": [
      "86\n"
     ]
    }
   ],
   "metadata": {}
  },
  {
   "cell_type": "code",
   "execution_count": 4,
   "source": [
    "s=sum(12,2,2,2,2,3)\r\n",
    "print(s)\r\n"
   ],
   "outputs": [
    {
     "output_type": "stream",
     "name": "stdout",
     "text": [
      "23\n"
     ]
    }
   ],
   "metadata": {}
  },
  {
   "cell_type": "code",
   "execution_count": 7,
   "source": [
    "\r\n",
    "def printt(a,b,c):\r\n",
    "    print(a)\r\n",
    "    print(b)\r\n",
    "    print(c)\r\n",
    "\r\n",
    "\r\n",
    "printt(b=\"mid\", a=\"top\", c=\"end\")"
   ],
   "outputs": [
    {
     "output_type": "stream",
     "name": "stdout",
     "text": [
      "top\n",
      "mid\n",
      "end\n"
     ]
    }
   ],
   "metadata": {}
  },
  {
   "cell_type": "code",
   "execution_count": 13,
   "source": [
    "def arguments(a,b, *args):  # catches all the remaining arguments as list of arg\r\n",
    "    \r\n",
    "    print(a,b)\r\n",
    "    print (args)\r\n",
    "    for i in args:\r\n",
    "        print(i)\r\n",
    "\r\n",
    "\r\n",
    "arguments(2,32,1,142,12,123)\r\n"
   ],
   "outputs": [
    {
     "output_type": "stream",
     "name": "stdout",
     "text": [
      "2 32\n",
      "(1, 142, 12, 123)\n",
      "1\n",
      "142\n",
      "12\n",
      "123\n"
     ]
    }
   ],
   "metadata": {}
  },
  {
   "cell_type": "code",
   "execution_count": 16,
   "source": [
    "def arguments(a,b,* args, c=20, **kwargs):\r\n",
    "    print(\"args are : \", args)\r\n",
    "    print(\"Kwargs are : \" , kwargs)\r\n",
    "    print(a,b,c)\r\n",
    "\r\n",
    "\r\n",
    "arguments(2,3,3242,234,23,4,32,name=\"shubham\",c=11, age=324,e=32)    "
   ],
   "outputs": [
    {
     "output_type": "stream",
     "name": "stdout",
     "text": [
      "(3242, 234, 23, 4, 32)\n",
      "{'name': 'shubham', 'age': 324, 'e': 32}\n",
      "2 3 11\n"
     ]
    }
   ],
   "metadata": {}
  },
  {
   "cell_type": "code",
   "execution_count": null,
   "source": [],
   "outputs": [],
   "metadata": {}
  }
 ],
 "metadata": {
  "orig_nbformat": 4,
  "language_info": {
   "name": "python",
   "version": "3.8.2",
   "mimetype": "text/x-python",
   "codemirror_mode": {
    "name": "ipython",
    "version": 3
   },
   "pygments_lexer": "ipython3",
   "nbconvert_exporter": "python",
   "file_extension": ".py"
  },
  "kernelspec": {
   "name": "python3",
   "display_name": "Python 3.8.2 32-bit"
  },
  "interpreter": {
   "hash": "c14390103c77792110dd7d07f19c0e77187d1f7858535b40ae83fad2bbb7fad4"
  }
 },
 "nbformat": 4,
 "nbformat_minor": 2
}