{
 "cells": [
  {
   "cell_type": "code",
   "execution_count": 1,
   "source": [
    "print(3)"
   ],
   "outputs": [
    {
     "output_type": "stream",
     "name": "stdout",
     "text": [
      "3\n"
     ]
    }
   ],
   "metadata": {}
  },
  {
   "cell_type": "code",
   "execution_count": 4,
   "source": [
    "#lambda syntax\r\n",
    "a= lambda a,b,c: a+b\r\n",
    "\r\n",
    "\r\n",
    "l=a(32,23,23)\r\n",
    "print(l)"
   ],
   "outputs": [
    {
     "output_type": "stream",
     "name": "stdout",
     "text": [
      "55\n"
     ]
    }
   ],
   "metadata": {}
  },
  {
   "cell_type": "code",
   "execution_count": 10,
   "source": [
    "l=[2,32,24,212,12,3]\r\n",
    "\r\n",
    "Sortedlist=sorted(l)\r\n",
    "print(Sortedlist)\r\n",
    "\r\n",
    "\r\n",
    "#inplace sorting \r\n",
    "\r\n",
    "f=[3,2,23,213,123,1235654,756,763442,34,2,5,33,52,34,233,42]\r\n",
    "f.sort()\r\n",
    "print(f)"
   ],
   "outputs": [
    {
     "output_type": "stream",
     "name": "stdout",
     "text": [
      "[2, 3, 12, 24, 32, 212]\n",
      "[2, 2, 3, 5, 23, 33, 34, 34, 42, 52, 123, 213, 233, 756, 763442, 1235654]\n"
     ]
    }
   ],
   "metadata": {}
  },
  {
   "cell_type": "code",
   "execution_count": 12,
   "source": [
    "\r\n",
    "# now sort acc to second value of list of tuples\r\n",
    "\r\n",
    "\r\n",
    "nameage=[(\"ram\",23),(\"shyam\",122),(\"pal\",4),(\"rohan\",92)]\r\n",
    "\r\n",
    "namesorted=sorted(nameage)\r\n",
    "print(namesorted)"
   ],
   "outputs": [
    {
     "output_type": "stream",
     "name": "stdout",
     "text": [
      "[('pal', 4), ('ram', 23), ('rohan', 92), ('shyam', 122)]\n"
     ]
    }
   ],
   "metadata": {}
  },
  {
   "cell_type": "code",
   "execution_count": 14,
   "source": [
    "agesorted= sorted(nameage,key=lambda nameage: nameage[1])\r\n",
    "print(agesorted)"
   ],
   "outputs": [
    {
     "output_type": "stream",
     "name": "stdout",
     "text": [
      "[('pal', 4), ('ram', 23), ('rohan', 92), ('shyam', 122)]\n"
     ]
    }
   ],
   "metadata": {}
  },
  {
   "cell_type": "code",
   "execution_count": null,
   "source": [
    "\r\n"
   ],
   "outputs": [],
   "metadata": {}
  }
 ],
 "metadata": {
  "orig_nbformat": 4,
  "language_info": {
   "name": "python",
   "version": "3.8.2",
   "mimetype": "text/x-python",
   "codemirror_mode": {
    "name": "ipython",
    "version": 3
   },
   "pygments_lexer": "ipython3",
   "nbconvert_exporter": "python",
   "file_extension": ".py"
  },
  "kernelspec": {
   "name": "python3",
   "display_name": "Python 3.8.2 32-bit"
  },
  "interpreter": {
   "hash": "c14390103c77792110dd7d07f19c0e77187d1f7858535b40ae83fad2bbb7fad4"
  }
 },
 "nbformat": 4,
 "nbformat_minor": 2
}